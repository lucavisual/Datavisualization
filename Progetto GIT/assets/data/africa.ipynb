{
 "cells": [
  {
   "cell_type": "code",
   "execution_count": null,
   "metadata": {},
   "outputs": [],
   "source": [
    "import pandas as pd\n",
    "import plotly.express as px\n",
    "import numpy as np\n",
    "import matplotlib.pyplot as plt"
   ]
  },
  {
   "cell_type": "code",
   "execution_count": null,
   "metadata": {},
   "outputs": [],
   "source": [
    "coord = pd.read_csv('coordinates.csv', sep=',')"
   ]
  },
  {
   "cell_type": "code",
   "execution_count": null,
   "metadata": {},
   "outputs": [],
   "source": [
    "coord = coord.drop(['name', 'nation_2', 'nation'], axis=1)"
   ]
  },
  {
   "cell_type": "code",
   "execution_count": null,
   "metadata": {},
   "outputs": [],
   "source": [
    "coord"
   ]
  },
  {
   "cell_type": "code",
   "execution_count": null,
   "metadata": {},
   "outputs": [],
   "source": [
    "df = pd.read_csv('df_africa.csv')"
   ]
  },
  {
   "cell_type": "code",
   "execution_count": null,
   "metadata": {},
   "outputs": [],
   "source": [
    "len(df.adm1_name.isnull())"
   ]
  },
  {
   "cell_type": "code",
   "execution_count": null,
   "metadata": {},
   "outputs": [],
   "source": [
    "df['cm_name'] = df['cm_name'].str.replace(r' - Retail', '')\n",
    "df['cm_name'] = df['cm_name'].str.replace(r' - Wholesale', '')\n",
    "df['cm_name'] = df['cm_name'].str.replace(r' - Producer', '')\n",
    "df['cm_name'] = df['cm_name'].str.replace(r' - Farm Gate', '')"
   ]
  },
  {
   "cell_type": "code",
   "execution_count": null,
   "metadata": {},
   "outputs": [],
   "source": [
    "len(df['adm0_name'].unique())"
   ]
  },
  {
   "cell_type": "code",
   "execution_count": null,
   "metadata": {},
   "outputs": [],
   "source": [
    "for i in df['adm1_name'].sort_values().unique():\n",
    "    print(i)"
   ]
  },
  {
   "cell_type": "code",
   "execution_count": null,
   "metadata": {},
   "outputs": [],
   "source": [
    "\n",
    "new_df = df.groupby(by='cm_name').count()\n",
    "new_df"
   ]
  },
  {
   "cell_type": "code",
   "execution_count": null,
   "metadata": {},
   "outputs": [],
   "source": [
    "#df[['food_name','1']] = df['cm_name'].loc[df['cm_name'].str.split(\" \").str.len() == 2].str.split(expand=True)\n",
    "#df['food_name'].fillna(df['cm_name'],inplace=True)"
   ]
  },
  {
   "cell_type": "code",
   "execution_count": null,
   "metadata": {},
   "outputs": [],
   "source": [
    "df.head()"
   ]
  },
  {
   "cell_type": "code",
   "execution_count": null,
   "metadata": {},
   "outputs": [],
   "source": [
    "#for i in df['1'].sort_values().unique():\n",
    "    #print(i)"
   ]
  },
  {
   "cell_type": "code",
   "execution_count": null,
   "metadata": {},
   "outputs": [],
   "source": [
    "df['adm1_name'].nunique()"
   ]
  },
  {
   "cell_type": "code",
   "execution_count": null,
   "metadata": {},
   "outputs": [],
   "source": [
    "df['adm1_name'].describe()"
   ]
  },
  {
   "cell_type": "code",
   "execution_count": null,
   "metadata": {},
   "outputs": [],
   "source": [
    "df = df.replace(\"South Sudan\", \"Sudan\")"
   ]
  },
  {
   "cell_type": "code",
   "execution_count": null,
   "metadata": {},
   "outputs": [],
   "source": [
    "# df['new'] = np.where((df['adm1_name'] == africa['ASCII Name']), df['adm1_name'], np.nan)"
   ]
  },
  {
   "cell_type": "code",
   "execution_count": null,
   "metadata": {},
   "outputs": [],
   "source": [
    "df['name'] = df['adm1_name']+\", \" +df['adm0_name']"
   ]
  },
  {
   "cell_type": "code",
   "execution_count": null,
   "metadata": {},
   "outputs": [],
   "source": [
    "df"
   ]
  },
  {
   "cell_type": "code",
   "execution_count": null,
   "metadata": {},
   "outputs": [],
   "source": [
    "for i in df['name'].sort_values().unique():\n",
    "    print(i)"
   ]
  },
  {
   "cell_type": "code",
   "execution_count": null,
   "metadata": {},
   "outputs": [],
   "source": [
    "coord"
   ]
  },
  {
   "cell_type": "code",
   "execution_count": null,
   "metadata": {},
   "outputs": [],
   "source": [
    "coord.loc[coord['place'] == 'Kemo']"
   ]
  },
  {
   "cell_type": "code",
   "execution_count": null,
   "metadata": {},
   "outputs": [],
   "source": [
    "a = pd.DataFrame({'Name':['Cascades', 'Centre', 'Centre-est', 'Centre-nord', \n",
    "'Centre-ouest', 'Centre-sud', 'Est', 'Hauts-bassins', 'Nord', 'Plateau Central',\n",
    "'Sahel', 'Sud-ouest', 'Santiago', 'Santo Antao', 'Beneshangul Gumu', 'Kanifing Municipal Council', \n",
    "'Coast', 'Eastern', 'North Eastern', 'Nyanza', 'Rift Valley', 'Toliara', 'Amoron I Mania', 'Central Region', 'Northern Region, ', 'Southern Region', 'Kémo', 'Mambéré-Kadéï','Nana-Mambéré', 'Ouham Pendé', 'Sangha-Mbaéré'],\n",
    "'Latitude':[10.38, 12.3787, 11.7892, 13.0983, 12.2549, 11.6713, 12.0631,11.333332, 13.5881, 12.5877, 14.249999, 11.083333, 14.93152, 17.07, 10.6390138, 13.4518974, -4.05466, 0.1768696, 3.0668696, -0.10221, -0.1, -23.35, -20.1, -13.5, -11.0, -15.5, 5.86667, 4.5, 5.97122, 7.0, 3.5],\n",
    "'Longitude':[-4.5, -1.5328, -0.3571, -1.0855, -2.3688, -1.0737, 0.3635, -4.249999, -2.4212, -1.301, -0.749997, -3.083333, -23.51254, -25.171,  35.7330322, -16.6645007, 39.66359, 37.9083264, 37.9083264, 34.76171, 36.1,  43.66667, 46.4, 34.0, 34.0, 35.0, 19.2, 16.0, 15.26276, 16.0, 16.16667]},\n",
    "index=[350, 351, 352, 353, 354, 355, 356, 357, 358, 359, 360, 361, 362, 363, 364, 365, 366, 367, 368, 369, 370, 371, 372, 373, 374, 375, 376, 377, 378, 379, 380])\n",
    "a"
   ]
  },
  {
   "cell_type": "code",
   "execution_count": null,
   "metadata": {},
   "outputs": [],
   "source": [
    "coord.rename(columns = {'place':'Name'}, inplace = True)\n",
    "coord.rename(columns = {'lat':'Latitude'}, inplace = True)\n",
    "coord.rename(columns = {'lon':'Longitude'}, inplace = True)"
   ]
  },
  {
   "cell_type": "code",
   "execution_count": null,
   "metadata": {},
   "outputs": [],
   "source": [
    "coordinates = pd.concat([coord, a])"
   ]
  },
  {
   "cell_type": "code",
   "execution_count": null,
   "metadata": {},
   "outputs": [],
   "source": [
    "df[\"adm1_name\"].nunique()"
   ]
  },
  {
   "cell_type": "code",
   "execution_count": null,
   "metadata": {},
   "outputs": [],
   "source": [
    "df = df.drop(\"Unnamed: 0\", axis=1)"
   ]
  },
  {
   "cell_type": "code",
   "execution_count": null,
   "metadata": {},
   "outputs": [],
   "source": [
    "len(coord)"
   ]
  },
  {
   "cell_type": "code",
   "execution_count": null,
   "metadata": {},
   "outputs": [],
   "source": [
    "df"
   ]
  },
  {
   "cell_type": "code",
   "execution_count": null,
   "metadata": {},
   "outputs": [],
   "source": [
    "dff = pd.merge(\n",
    "    left=df,\n",
    "    right=coordinates,\n",
    "    left_on='adm1_name',\n",
    "    right_on='Name',\n",
    "    how='left'\n",
    ")"
   ]
  },
  {
   "cell_type": "code",
   "execution_count": null,
   "metadata": {},
   "outputs": [],
   "source": [
    "dff = dff.drop([\"Name\", \"name\"], axis=1)"
   ]
  },
  {
   "cell_type": "code",
   "execution_count": null,
   "metadata": {},
   "outputs": [],
   "source": [
    "dff"
   ]
  },
  {
   "cell_type": "code",
   "execution_count": null,
   "metadata": {},
   "outputs": [],
   "source": [
    "dff.loc[dff['Latitude'].isnull() == True]"
   ]
  },
  {
   "cell_type": "code",
   "execution_count": null,
   "metadata": {},
   "outputs": [],
   "source": [
    "dff['adm1_name'] = dff['adm1_name'].fillna(dff['mkt_name'])"
   ]
  },
  {
   "cell_type": "code",
   "execution_count": null,
   "metadata": {},
   "outputs": [],
   "source": [
    "dff.loc[dff['adm1_name'] == dff['mkt_name']]"
   ]
  },
  {
   "cell_type": "code",
   "execution_count": null,
   "metadata": {},
   "outputs": [],
   "source": [
    "dff.loc[dff['Latitude'].isnull() == True]"
   ]
  },
  {
   "cell_type": "code",
   "execution_count": null,
   "metadata": {},
   "outputs": [],
   "source": [
    "dff[\"cm_type\"] = dff['cm_name']"
   ]
  },
  {
   "cell_type": "code",
   "execution_count": null,
   "metadata": {},
   "outputs": [],
   "source": [
    "tmp = dff[\"cm_type\"].values\n",
    "for i in range(len(tmp)):\n",
    "    tmp[i] = tmp[i].split(\" (\")[0]"
   ]
  },
  {
   "cell_type": "code",
   "execution_count": null,
   "metadata": {},
   "outputs": [],
   "source": [
    "dff = dff.drop('cm_name', axis=1)"
   ]
  },
  {
   "cell_type": "code",
   "execution_count": null,
   "metadata": {},
   "outputs": [],
   "source": [
    "(dff.loc[(dff['adm0_name'] == 'Chad') & (dff['adm1_name'].isnull() != True)])"
   ]
  },
  {
   "cell_type": "code",
   "execution_count": null,
   "metadata": {},
   "outputs": [],
   "source": [
    "g = dff.loc[dff['Latitude'].isnull()== True]"
   ]
  },
  {
   "cell_type": "code",
   "execution_count": null,
   "metadata": {},
   "outputs": [],
   "source": [
    "g['name'] = g['adm0_name']+\", \" +g['adm1_name']"
   ]
  },
  {
   "cell_type": "code",
   "execution_count": null,
   "metadata": {},
   "outputs": [],
   "source": [
    "g"
   ]
  },
  {
   "cell_type": "code",
   "execution_count": null,
   "metadata": {},
   "outputs": [],
   "source": [
    "for i in (g.name.unique()):\n",
    "    print(i)"
   ]
  },
  {
   "cell_type": "code",
   "execution_count": null,
   "metadata": {},
   "outputs": [],
   "source": [
    "(dff.loc[(dff['adm0_name'] == 'Chad')])"
   ]
  },
  {
   "cell_type": "code",
   "execution_count": null,
   "metadata": {},
   "outputs": [],
   "source": [
    "mkt_coord = pd.read_csv('coordinates_updated.csv', sep=';')"
   ]
  },
  {
   "cell_type": "code",
   "execution_count": null,
   "metadata": {},
   "outputs": [],
   "source": [
    "mkt_coord"
   ]
  },
  {
   "cell_type": "code",
   "execution_count": null,
   "metadata": {},
   "outputs": [],
   "source": [
    "dff['name'] = dff['adm0_name']+\", \" +dff['adm1_name']"
   ]
  },
  {
   "cell_type": "code",
   "execution_count": null,
   "metadata": {},
   "outputs": [],
   "source": [
    "# dff.loc[dff['name']== 'Chad, National Average']"
   ]
  },
  {
   "cell_type": "code",
   "execution_count": null,
   "metadata": {},
   "outputs": [],
   "source": [
    "dff"
   ]
  },
  {
   "cell_type": "code",
   "execution_count": null,
   "metadata": {},
   "outputs": [],
   "source": [
    "g"
   ]
  },
  {
   "cell_type": "code",
   "execution_count": null,
   "metadata": {},
   "outputs": [],
   "source": [
    "g = g.drop(['Latitude', 'Longitude'], axis=1)"
   ]
  },
  {
   "cell_type": "code",
   "execution_count": null,
   "metadata": {},
   "outputs": [],
   "source": [
    "fd = pd.merge(\n",
    "    left=g,\n",
    "    right=mkt_coord,\n",
    "    left_on='name',\n",
    "    right_on='Name',\n",
    "    how='left'\n",
    ")"
   ]
  },
  {
   "cell_type": "code",
   "execution_count": null,
   "metadata": {},
   "outputs": [],
   "source": [
    "fd = fd.drop([\"Name\", \"name\"], axis=1)"
   ]
  },
  {
   "cell_type": "code",
   "execution_count": null,
   "metadata": {},
   "outputs": [],
   "source": [
    "fd"
   ]
  },
  {
   "cell_type": "code",
   "execution_count": null,
   "metadata": {},
   "outputs": [],
   "source": [
    "dff"
   ]
  },
  {
   "cell_type": "code",
   "execution_count": null,
   "metadata": {},
   "outputs": [],
   "source": [
    "df_final = dff.loc[dff['Latitude'].isnull()!= True]"
   ]
  },
  {
   "cell_type": "code",
   "execution_count": null,
   "metadata": {},
   "outputs": [],
   "source": [
    "fd.loc[fd['Latitude'].isnull()== True]"
   ]
  },
  {
   "cell_type": "code",
   "execution_count": null,
   "metadata": {},
   "outputs": [],
   "source": [
    "df_final = df_final.drop('name', axis=1)"
   ]
  },
  {
   "cell_type": "code",
   "execution_count": null,
   "metadata": {},
   "outputs": [],
   "source": [
    "final= pd.concat([df_final, fd])"
   ]
  },
  {
   "cell_type": "code",
   "execution_count": null,
   "metadata": {},
   "outputs": [],
   "source": [
    "final"
   ]
  },
  {
   "cell_type": "code",
   "execution_count": null,
   "metadata": {},
   "outputs": [],
   "source": [
    "final.info()"
   ]
  },
  {
   "cell_type": "code",
   "execution_count": null,
   "metadata": {},
   "outputs": [],
   "source": [
    "final.loc[final['cm_type'] == 'Wage']"
   ]
  },
  {
   "cell_type": "code",
   "execution_count": null,
   "metadata": {},
   "outputs": [],
   "source": [
    "final.groupby(by='cm_type').count()"
   ]
  },
  {
   "cell_type": "code",
   "execution_count": null,
   "metadata": {},
   "outputs": [],
   "source": [
    "#for i in final.cm_type.sort_values().unique():\n",
    "    #print(i)"
   ]
  },
  {
   "cell_type": "code",
   "execution_count": null,
   "metadata": {},
   "outputs": [],
   "source": [
    "final.um_name.nunique()"
   ]
  },
  {
   "cell_type": "code",
   "execution_count": null,
   "metadata": {},
   "outputs": [],
   "source": [
    "final.loc[final['um_name']== 'Loaf']"
   ]
  },
  {
   "cell_type": "code",
   "execution_count": null,
   "metadata": {},
   "outputs": [],
   "source": [
    "unit = final.um_name.unique().tolist()\n",
    "unit= dict.fromkeys(unit, pd.NA)"
   ]
  },
  {
   "cell_type": "code",
   "execution_count": null,
   "metadata": {},
   "outputs": [],
   "source": [
    "unit['KG'] = 1\n",
    "unit['L'] = 1\n",
    "unit['500 G'] = 2\n",
    "unit['Unit'] = 1\n",
    "unit['30 pcs'] = 1\n",
    "unit['125 G'] = 8\n",
    "unit['Packet'] = 1\n",
    "unit['900 G'] = 10/9\n",
    "unit['50 Pounds'] = 1/22.68\n",
    "unit['100 KG'] = 1/100\n",
    "unit['90 KG'] = 1/90\n",
    "unit['1 piece'] = 1\n",
    "unit['400 G'] = 5/2\n",
    "unit['15 KG'] = 1/15\n",
    "unit['5 KG'] = 1/5\n",
    "unit['12 KG'] = 1/12\n",
    "unit['Day'] = 1\n",
    "unit['20 KG'] = 1/20\n",
    "unit['120 KG'] = 1/120\n",
    "unit['20 L'] = 1/20\n",
    "unit['18 KG'] = 1/18\n",
    "unit['50 KG'] = 1/50\n",
    "unit['160 KG'] = 1/160\n",
    "unit['1.5 L'] = 2/3\n",
    "unit['Sack'] = 1\n",
    "unit['Package'] = 1\n",
    "unit['Course'] = 1\n",
    "unit['USD/LCU'] = 1\n",
    "unit['Head'] = 1\n",
    "unit['70 G'] = 1/0.07\n",
    "unit['200 G'] = 5\n",
    "unit['68 KG'] = 1/68\n",
    "unit['109 KG'] = 1/109\n",
    "unit['91 KG'] = 1/91\n",
    "unit['93 KG'] = 1/93\n",
    "unit['10 KG'] = 1/10\n",
    "unit['Bunch'] = 1\n",
    "unit['250 KG'] = 1/250\n",
    "unit['100 Tubers'] = 1 \n",
    "unit['73 KG'] = 1/73\n",
    "unit['84 KG'] = 1/84\n",
    "unit['52 KG'] = 1/52\n",
    "unit['27 KG'] = 1/27\n",
    "unit['16 KG'] = 1/16\n",
    "unit['500 ML'] = 2\n",
    "unit['200 ML'] = 5\n",
    "unit['12.5 KG'] = 1/12.5\n",
    "unit['200 ML'] = 5\n",
    "unit['Loaf'] = 1/(4*1.81437)\n",
    "unit['200 ML'] = 5\n",
    "unit['750 ML'] = 1000/750\n",
    "unit['Gallon'] = 1/3.79\n",
    "unit['2.25 KG'] = 1/2.25\n",
    "unit['Pile'] = 1\n",
    "unit['Heap'] = 1\n",
    "unit['100 L'] = 1/100\n",
    "unit['1.4 KG'] = 1/1.4\n",
    "unit['1.3 KG'] = 1/1.3\n",
    "unit['20 G'] = 1/0.02\n",
    "unit['3.4 KG'] = 1/3.4\n",
    "unit['0.5 KG'] = 2\n",
    "unit['1.5 KG'] = 1/1.5\n",
    "unit['1.1 KG'] = 1/1.1\n",
    "unit['250 G'] = 4\n",
    "unit['300 G'] = 10/3\n",
    "unit['2.1 KG'] = 1/2.1\n",
    "unit['1.2 KG'] = 1/1.2\n",
    "unit['3.1 KG'] = 1/3.1\n",
    "unit['3 KG'] = 1/3\n",
    "unit['3.5 KG'] = 1/3.5\n",
    "unit['MT'] = 1/1000\n",
    "unit['100 ML'] = 10\n",
    "unit['168 G'] = 1000/168\n",
    "unit['5 pcs'] = 1\n",
    "unit['11 KG'] = 1/11\n",
    "unit['Brush'] = 1\n",
    "unit['10 pcs'] = 1\n",
    "unit['Bar'] = 1/1.02\n",
    "unit['250 ML'] = 4\n",
    "unit['Bundle'] = 1\n",
    "unit['LCU/3.5kg'] = 3.5\n"
   ]
  },
  {
   "cell_type": "code",
   "execution_count": null,
   "metadata": {},
   "outputs": [],
   "source": [
    "unit.values()"
   ]
  },
  {
   "cell_type": "code",
   "execution_count": null,
   "metadata": {},
   "outputs": [],
   "source": [
    "new_cur = final.apply(lambda x: unit[x[\"um_name\"]] * x[\"mp_price\"], axis=1)\n",
    "new_cur"
   ]
  },
  {
   "cell_type": "code",
   "execution_count": null,
   "metadata": {},
   "outputs": [],
   "source": [
    "final['mp_price'] = new_cur\n",
    "final['mp_price'].loc[final['um_name']== 'Head'] = np.log(final['mp_price'].loc[final['um_name']== 'Head']) + 2"
   ]
  },
  {
   "cell_type": "code",
   "execution_count": null,
   "metadata": {},
   "outputs": [],
   "source": [
    "final.loc[final['um_name']== 'Loaf']"
   ]
  },
  {
   "cell_type": "code",
   "execution_count": null,
   "metadata": {},
   "outputs": [],
   "source": [
    "final.loc[final['um_name']== '90 KG']"
   ]
  },
  {
   "cell_type": "code",
   "execution_count": null,
   "metadata": {},
   "outputs": [],
   "source": [
    "final = final.replace(r'100 KG', 'KG')\n",
    "final = final.replace(r'90 KG', 'KG')\n",
    "final = final.replace(r'500 G', 'KG')\n",
    "final = final.replace(r'125 G', 'KG')\n",
    "final = final.replace(r'900 G', 'KG')\n",
    "final = final.replace(r'50 Pounds', 'KG')\n",
    "final = final.replace(r'18 KG', 'KG')\n",
    "final = final.replace(r'400 G', 'KG')\n",
    "final = final.replace(r'15 KG', 'KG')\n",
    "final = final.replace(r'5 KG', 'KG')\n",
    "final = final.replace(r'12 KG', 'KG')\n",
    "final = final.replace(r'20 KG', 'KG')\n",
    "final = final.replace(r'160 KG', 'KG')\n",
    "final = final.replace(r'120 KG', 'KG')\n",
    "final = final.replace(r'50 KG', 'KG')\n",
    "final = final.replace(r'L', 'KG')\n",
    "final = final.replace(r'20 L', 'KG')\n",
    "final = final.replace(r'1.5 L', 'KG')\n",
    "final = final.replace(r'USD/LCU', 'KG')\n",
    "final = final.replace(r'70 G', 'KG')\n",
    "final = final.replace(r'200 G', 'KG')\n",
    "final = final.replace(r'68 KG', 'KG')\n",
    "final = final.replace(r'109 KG', 'KG')\n",
    "final = final.replace(r'91 KG', 'KG')\n",
    "final = final.replace(r'93 KG', 'KG')\n",
    "final = final.replace(r'10 KG', 'KG')\n",
    "final = final.replace(r'250 KG', 'KG')\n",
    "final = final.replace(r'73 KG', 'KG')\n",
    "final = final.replace(r'84 KG', 'KG')\n",
    "final = final.replace(r'52 KG', 'KG')\n",
    "final = final.replace(r'27 KG', 'KG')\n",
    "final = final.replace(r'16 KG', 'KG')\n",
    "final = final.replace(r'500 ML', 'KG')\n",
    "final = final.replace(r'200 ML', 'KG')\n",
    "final = final.replace(r'12.5 KG', 'KG')\n",
    "final = final.replace(r'750 ML', 'KG')\n",
    "final = final.replace(r'Loaf', 'KG')\n",
    "final = final.replace(r'Gallon', 'KG')\n",
    "final = final.replace(r'2.25 KG', 'KG')\n",
    "final = final.replace(r'100 L', 'KG')\n",
    "final = final.replace(r'1.4 KG', 'KG')\n",
    "final = final.replace(r'1.3 KG', 'KG')\n",
    "final = final.replace(r'20 G', 'KG')\n",
    "final = final.replace(r'3.4 KG', 'KG')\n",
    "final = final.replace(r'0.5 KG', 'KG')\n",
    "final = final.replace(r'1.5 KG', 'KG')\n",
    "final = final.replace(r'1.1 KG', 'KG')\n",
    "final = final.replace(r'250 G', 'KG')\n",
    "final = final.replace(r'300 G', 'KG')\n",
    "final = final.replace(r'2.1 KG', 'KG')\n",
    "final = final.replace(r'1.2 KG', 'KG')\n",
    "final = final.replace(r'3 KG', 'KG')\n",
    "final = final.replace(r'3.1 KG', 'KG')\n",
    "final = final.replace(r'3.5 KG', 'KG')\n",
    "final = final.replace(r'100 ML', 'KG')\n",
    "final = final.replace(r'168 G', 'KG')\n",
    "final = final.replace(r'11 KG', 'KG')\n",
    "final = final.replace(r'MT', 'KG')\n",
    "final = final.replace(r'Bar', 'KG')\n",
    "final = final.replace(r'250 ML', 'KG')\n",
    "final = final.replace(r'LCU/3.5kg', 'KG')\n",
    "final = final.replace(r'Head', 'KG')\n"
   ]
  },
  {
   "cell_type": "code",
   "execution_count": null,
   "metadata": {
    "collapsed": false
   },
   "outputs": [],
   "source": [
    "final.loc[final['um_name']== '90 KG']"
   ]
  },
  {
   "cell_type": "code",
   "execution_count": null,
   "metadata": {},
   "outputs": [],
   "source": [
    "final.sort_values(by= ['adm0_name', 'mp_month', 'mp_year'], inplace=True)"
   ]
  },
  {
   "cell_type": "code",
   "execution_count": null,
   "metadata": {},
   "outputs": [],
   "source": [
    "final"
   ]
  },
  {
   "cell_type": "code",
   "execution_count": null,
   "metadata": {
    "collapsed": false
   },
   "outputs": [],
   "source": [
    "final['mp_month'] = final['mp_month'].astype('str')\n",
    "final['mp_year'] = final['mp_year'].astype('str')\n",
    "final['Time'] = final['mp_year']+ '-' + final['mp_month']"
   ]
  },
  {
   "cell_type": "code",
   "execution_count": null,
   "metadata": {},
   "outputs": [],
   "source": [
    "final"
   ]
  },
  {
   "cell_type": "code",
   "execution_count": null,
   "metadata": {
    "collapsed": false
   },
   "outputs": [],
   "source": [
    "fg = final[['adm0_name','mp_month', 'mp_year', 'Time','mp_price','Latitude',\t'Longitude']]"
   ]
  },
  {
   "cell_type": "code",
   "execution_count": null,
   "metadata": {},
   "outputs": [],
   "source": [
    "fg.mp_year = fg.mp_year.astype(int)\n",
    "fg.mp_month = fg.mp_month.astype(int)"
   ]
  },
  {
   "cell_type": "code",
   "execution_count": null,
   "metadata": {},
   "outputs": [],
   "source": [
    "fg.sort_values(by=['adm0_name', 'mp_year','mp_month'], inplace=True)"
   ]
  },
  {
   "cell_type": "code",
   "execution_count": null,
   "metadata": {},
   "outputs": [],
   "source": [
    "fg"
   ]
  },
  {
   "cell_type": "code",
   "execution_count": null,
   "metadata": {},
   "outputs": [],
   "source": [
    "fg"
   ]
  },
  {
   "cell_type": "code",
   "execution_count": null,
   "metadata": {},
   "outputs": [],
   "source": [
    "fg"
   ]
  },
  {
   "cell_type": "code",
   "execution_count": null,
   "metadata": {},
   "outputs": [],
   "source": [
    "import seaborn as sns"
   ]
  },
  {
   "cell_type": "code",
   "execution_count": null,
   "metadata": {},
   "outputs": [],
   "source": [
    "\"\"\"grouped_year = fg.groupby(\"mp_year\")\n",
    "\n",
    "#iterate through each group (each year)\n",
    "for year, group in grouped_year:\n",
    "    plt.figure()\n",
    "    grouped_country = group.groupby(\"adm0_name\")\n",
    "    for country, data in grouped_country:\n",
    "        plt.plot(data[\"Time\"], data[\"mp_price\"], label=country)\n",
    "    plt.xlabel(\"Year\")\n",
    "    plt.ylabel(\"Price\")\n",
    "    plt.title(year)\n",
    "    plt.legend()\n",
    "plt.show()\"\"\""
   ]
  },
  {
   "cell_type": "code",
   "execution_count": null,
   "metadata": {},
   "outputs": [],
   "source": [
    "\"\"\"import matplotlib.pyplot as plt\n",
    "fig, ax = plt.subplots(figsize=(12, 12))\n",
    "#create a scatter plot of prices by Latitude and Longitude\n",
    "plt.scatter(fg[\"Longitude\"], fg[\"Latitude\"], c=fg[\"mp_price\"], cmap=\"rainbow\")\n",
    "plt.xlabel(\"Longitude\")\n",
    "plt.ylabel(\"Latitude\")\n",
    "plt.title(\"Prices of Products by Location\")\n",
    "plt.legend()\n",
    "plt.show()\"\"\""
   ]
  },
  {
   "cell_type": "code",
   "execution_count": null,
   "metadata": {},
   "outputs": [],
   "source": [
    "\"\"\"import geopandas as gpd\n",
    "import matplotlib.pyplot as plt\n",
    "\n",
    "# create a GeoDataFrame from the final dataframe\n",
    "gdf = gpd.GeoDataFrame(final, geometry=gpd.points_from_xy(final.Longitude, final.Latitude))\n",
    "\n",
    "# create a basemap of Africa\n",
    "world = gpd.read_file(gpd.datasets.get_path('naturalearth_lowres'))\n",
    "africa = world[world['continent'] == 'Africa']\n",
    "# create a scatter plot of prices of the products by Latitude and Longitude\n",
    "fig, ax = plt.subplots(figsize=(15, 13))\n",
    "africa.plot(ax=ax, color='white', edgecolor='black')\n",
    "gdf.plot(ax=ax, column='mp_price', cmap='cubehelix', markersize=10)\n",
    "plt.show()\"\"\""
   ]
  },
  {
   "cell_type": "code",
   "execution_count": null,
   "metadata": {},
   "outputs": [],
   "source": [
    "\"\"\"import folium\n",
    "import pandas as pd\n",
    "\n",
    "# Assume 'final' is your dataframe containing the country, latitude, longitude, and price information\n",
    "data = final\n",
    "\n",
    "# Group the data by country and calculate the mean price for each country\n",
    "data_grouped = final.groupby(\"adm0_name\")[\"mp_price\"].mean()\n",
    "\n",
    "# Create the map\n",
    "m = folium.Map(location=[12, 10], zoom_start=3)\n",
    "\n",
    "# Add markers for each country's average price\n",
    "for country, price in data_grouped.items():\n",
    "    folium.Marker(location=[data[data['adm0_name'] == country]['Latitude'].mean(), data[data['adm0_name'] == country]['Longitude'].mean()], \n",
    "                popup=f\"{country}: {price}\").add_to(m)\n",
    "\n",
    "# Create a dataframe with country and price information, sorted by price in descending order\n",
    "price_df = pd.DataFrame({'Country': data_grouped.index, 'Price': data_grouped.values})\n",
    "price_df = price_df.sort_values(by='Price', ascending=False)\n",
    "\n",
    "# Convert the dataframe to an HTML table\n",
    "table = price_df.to_html(index=False)\n",
    "\n",
    "table_html = folium.Html(table, script=True)\n",
    "popup = folium.Popup(table_html, max_width=2650)\n",
    "popup.add_to(m)\n",
    "m.add_child(folium.Element(\"<style> .table { position: fixed; top: 50px; left: 50px; } </style>\"))\n",
    "# Save the map to an HTML file\n",
    "m.save(\"map.html\")\n",
    "\n",
    "# Display the map\n",
    "display(m)\"\"\""
   ]
  },
  {
   "cell_type": "code",
   "execution_count": null,
   "metadata": {},
   "outputs": [],
   "source": [
    "\"\"\"# Create a folium IFrame with the table\n",
    "iframe = folium.IFrame(table, width=300, height=200)\n",
    "popup = folium.Popup(iframe, max_width=2650)\n",
    "\"\"\""
   ]
  },
  {
   "cell_type": "code",
   "execution_count": null,
   "metadata": {},
   "outputs": [],
   "source": [
    "import folium\n",
    "data = final\n",
    "data_grouped = final.groupby(\"adm0_name\")[\"mp_price\"].mean()\n",
    "\n",
    "# Create a table containing the data to be displayed in the sidebar\n",
    "price_df = pd.DataFrame({'Country': data_grouped.index, 'Price': data_grouped.values})\n",
    "price_df = price_df.sort_values(by='Price', ascending=False)\n",
    "table = price_df.to_html(index=False, classes='table table-striped')\n",
    "\n",
    "# Create the map\n",
    "m = folium.Map(location=[12, 10], zoom_start=3)\n",
    "\n",
    "# Add markers to the map\n",
    "for country, price in data_grouped.items():\n",
    "    folium.Marker(location=[data[data['adm0_name'] == country]['Latitude'].mean(), data[data['adm0_name'] == country]['Longitude'].mean()], \n",
    "                popup=f\"{country}: {price}\").add_to(m)\n",
    "\n",
    "# Add the sidebar to the map\n",
    "folium.Html(table, script=True, width=300, height=200).add_to(m)\n",
    "\n",
    "# Save the map to an HTML file\n",
    "m.save(\"map.html\")\n",
    "\n",
    "# Display the map\n",
    "display(m)"
   ]
  },
  {
   "cell_type": "code",
   "execution_count": null,
   "metadata": {},
   "outputs": [],
   "source": [
    "\"\"\"\n",
    "import folium\n",
    "data = final\n",
    "data_grouped = final.groupby(\"adm0_name\")[\"mp_price\"].mean()\n",
    "m = folium.Map(location=[12, 10], zoom_start=3)\n",
    "for country, price in data_grouped.items():\n",
    "    folium.Marker(location=[data[data['adm0_name'] == country]['Latitude'].mean(), data[data['adm0_name'] == country]['Longitude'].mean()], \n",
    "                popup=f\"{country}: {price}\").add_to(m)\n",
    "price_df = pd.DataFrame({'Country': data_grouped.index, 'Price': data_grouped.values})\n",
    "price_df = price_df.sort_values(by='Price')\n",
    "table = price_df.to_html(index=False)\n",
    "table_popup = folium.Popup(table, max_width=1000)\n",
    "folium.IFrame(table, width=600, height=200).add_to(m)\n",
    "m.save(\"map.html\")\n",
    "display(m)\"\"\""
   ]
  },
  {
   "cell_type": "code",
   "execution_count": null,
   "metadata": {},
   "outputs": [],
   "source": [
    "\"\"\"from mpl_toolkits.basemap import Basemap\n",
    "# create figure and basemap\n",
    "fig, ax = plt.subplots(figsize=(10, 8))\n",
    "m = Basemap(projection='mill',\n",
    "            llcrnrlat=-40,\n",
    "            urcrnrlat=70,\n",
    "            llcrnrlon=-20,\n",
    "            urcrnrlon=60,\n",
    "            resolution='c',\n",
    "            ax=ax)\n",
    "\n",
    "# plot Africa map\n",
    "m.drawcoastlines()\n",
    "m.fillcontinents(color='lightgray', lake_color='lightblue')\n",
    "\n",
    "# plot prices of products by Latitude and Longitude\n",
    "m.scatter(final[\"Longitude\"], final[\"Latitude\"], c=final[\"mp_price\"], s=10, cmap='Reds', alpha=0.7)\n",
    "\n",
    "plt.show()\"\"\""
   ]
  },
  {
   "cell_type": "code",
   "execution_count": null,
   "metadata": {},
   "outputs": [],
   "source": [
    "plt.figure(figsize=(15, 12))\n",
    "sns.scatterplot(x='Longitude', y='Latitude', size='mp_price', sizes=(10, 150), data=final)\n",
    "plt.title(\"Price of products by Latitude and Longitude\")\n",
    "plt.grid(visible=True)"
   ]
  },
  {
   "cell_type": "code",
   "execution_count": null,
   "metadata": {},
   "outputs": [],
   "source": [
    "\"\"\"import matplotlib.pyplot as plt\n",
    "df_ls = []\n",
    "for i in fg.adm0_name.unique():\n",
    "    df_nat = fg.loc[fg['adm0_name']== i]\n",
    "    df_ls.append(df_nat)\n",
    "fg = fg.sort_values(by='Time')\n",
    "grouped = fg.groupby(by='mp_year')\n",
    "#iterate through each group\n",
    "for name, group in grouped:\n",
    "    plt.figure(figsize=(15,7))\n",
    "    for country in group[\"adm0_name\"].unique():\n",
    "        \n",
    "        \n",
    "        plt.plot(group.loc[group[\"adm0_name\"] == country, \"Time\"], group.loc[group[\"adm0_name\"] == country, \"mp_price\"], label=country)\n",
    "    plt.xlabel(\"Time\")\n",
    "    plt.ylabel(\"Price\")\n",
    "    plt.title(name)\n",
    "    plt.legend()\n",
    "plt.show()\"\"\""
   ]
  },
  {
   "cell_type": "code",
   "execution_count": null,
   "metadata": {},
   "outputs": [],
   "source": [
    "\"\"\"df_ls = []\n",
    "for i in fg.adm0_name.unique():\n",
    "    df_nat = fg.loc[fg['adm0_name']== i]\n",
    "    df_ls.append(df_nat)\n",
    "while len(df_ls) != 0:\n",
    "    for k in df_ls:\n",
    "        for j in k.mp_year.unique():\n",
    "            df_year = df_ls[0].loc[df_ls[0]['mp_year'] == j]\n",
    "            plt.figure(figsize=(15, 7))\n",
    "            plt.plot(df_year['Time'],df_year['mp_price'])\n",
    "            plt.xlabel('Year')\n",
    "            mi = float(k['mp_price'].min())\n",
    "            ma = float(k['mp_price'].max())\n",
    "            plt.ylim(mi, ma)\n",
    "            plt.ylabel('Price')\n",
    "            plt.title(k['adm0_name'].unique())\n",
    "            plt.show()\n",
    "    del df_ls[0]\"\"\""
   ]
  },
  {
   "cell_type": "markdown",
   "metadata": {},
   "source": [
    "## code to creat barchart"
   ]
  },
  {
   "cell_type": "code",
   "execution_count": 426,
   "metadata": {},
   "outputs": [
    {
     "data": {
      "image/png": "[encoded data removed]",
      "text/plain": [
       "<Figure size 1400x700 with 1 Axes>"
      ]
     },
     "metadata": {},
     "output_type": "display_data"
    },
    {
     "data": {
      "image/png": "[encoded data removed]",
      "text/plain": [
       "<Figure size 1400x700 with 1 Axes>"
      ]
     },
     "metadata": {},
     "output_type": "display_data"
    },
    {
     "data": {
      "image/png": "[encoded data removed]",
      "text/plain": [
       "<Figure size 1400x700 with 1 Axes>"
      ]
     },
     "metadata": {},
     "output_type": "display_data"
    },
    {
     "data": {
      "image/png": "[encoded data removed]",
      "text/plain": [
       "<Figure size 1400x700 with 1 Axes>"
      ]
     },
     "metadata": {},
     "output_type": "display_data"
    },
    {
     "data": {
      "image/png": "[encoded data removed]",
      "text/plain": [
       "<Figure size 1400x700 with 1 Axes>"
      ]
     },
     "metadata": {},
     "output_type": "display_data"
    },
    {
     "name": "stdout",
     "output_type": "stream",
     "text": [
      "Error in callback <function flush_figures at 0x14d16ea20> (for post_execute):\n"
     ]
    },
    {
     "ename": "KeyboardInterrupt",
     "evalue": "",
     "output_type": "error",
     "traceback": [
      "\u001b[0;31m---------------------------------------------------------------------------\u001b[0m",
      "\u001b[0;31mKeyboardInterrupt\u001b[0m                         Traceback (most recent call last)",
      "File \u001b[0;32m~/Library/Python/3.11/lib/python/site-packages/matplotlib_inline/backend_inline.py:126\u001b[0m, in \u001b[0;36mflush_figures\u001b[0;34m()\u001b[0m\n\u001b[1;32m    123\u001b[0m \u001b[39mif\u001b[39;00m InlineBackend\u001b[39m.\u001b[39minstance()\u001b[39m.\u001b[39mclose_figures:\n\u001b[1;32m    124\u001b[0m     \u001b[39m# ignore the tracking, just draw and close all figures\u001b[39;00m\n\u001b[1;32m    125\u001b[0m     \u001b[39mtry\u001b[39;00m:\n\u001b[0;32m--> 126\u001b[0m         \u001b[39mreturn\u001b[39;00m show(\u001b[39mTrue\u001b[39;49;00m)\n\u001b[1;32m    127\u001b[0m     \u001b[39mexcept\u001b[39;00m \u001b[39mException\u001b[39;00m \u001b[39mas\u001b[39;00m e:\n\u001b[1;32m    128\u001b[0m         \u001b[39m# safely show traceback if in IPython, else raise\u001b[39;00m\n\u001b[1;32m    129\u001b[0m         ip \u001b[39m=\u001b[39m get_ipython()\n",
      "File \u001b[0;32m~/Library/Python/3.11/lib/python/site-packages/matplotlib_inline/backend_inline.py:90\u001b[0m, in \u001b[0;36mshow\u001b[0;34m(close, block)\u001b[0m\n\u001b[1;32m     88\u001b[0m \u001b[39mtry\u001b[39;00m:\n\u001b[1;32m     89\u001b[0m     \u001b[39mfor\u001b[39;00m figure_manager \u001b[39min\u001b[39;00m Gcf\u001b[39m.\u001b[39mget_all_fig_managers():\n\u001b[0;32m---> 90\u001b[0m         display(\n\u001b[1;32m     91\u001b[0m             figure_manager\u001b[39m.\u001b[39;49mcanvas\u001b[39m.\u001b[39;49mfigure,\n\u001b[1;32m     92\u001b[0m             metadata\u001b[39m=\u001b[39;49m_fetch_figure_metadata(figure_manager\u001b[39m.\u001b[39;49mcanvas\u001b[39m.\u001b[39;49mfigure)\n\u001b[1;32m     93\u001b[0m         )\n\u001b[1;32m     94\u001b[0m \u001b[39mfinally\u001b[39;00m:\n\u001b[1;32m     95\u001b[0m     show\u001b[39m.\u001b[39m_to_draw \u001b[39m=\u001b[39m []\n",
      "File \u001b[0;32m~/Library/Python/3.11/lib/python/site-packages/IPython/core/display_functions.py:298\u001b[0m, in \u001b[0;36mdisplay\u001b[0;34m(include, exclude, metadata, transient, display_id, raw, clear, *objs, **kwargs)\u001b[0m\n\u001b[1;32m    296\u001b[0m     publish_display_data(data\u001b[39m=\u001b[39mobj, metadata\u001b[39m=\u001b[39mmetadata, \u001b[39m*\u001b[39m\u001b[39m*\u001b[39mkwargs)\n\u001b[1;32m    297\u001b[0m \u001b[39melse\u001b[39;00m:\n\u001b[0;32m--> 298\u001b[0m     format_dict, md_dict \u001b[39m=\u001b[39m \u001b[39mformat\u001b[39;49m(obj, include\u001b[39m=\u001b[39;49minclude, exclude\u001b[39m=\u001b[39;49mexclude)\n\u001b[1;32m    299\u001b[0m     \u001b[39mif\u001b[39;00m \u001b[39mnot\u001b[39;00m format_dict:\n\u001b[1;32m    300\u001b[0m         \u001b[39m# nothing to display (e.g. _ipython_display_ took over)\u001b[39;00m\n\u001b[1;32m    301\u001b[0m         \u001b[39mcontinue\u001b[39;00m\n",
      "File \u001b[0;32m~/Library/Python/3.11/lib/python/site-packages/IPython/core/formatters.py:177\u001b[0m, in \u001b[0;36mDisplayFormatter.format\u001b[0;34m(self, obj, include, exclude)\u001b[0m\n\u001b[1;32m    175\u001b[0m md \u001b[39m=\u001b[39m \u001b[39mNone\u001b[39;00m\n\u001b[1;32m    176\u001b[0m \u001b[39mtry\u001b[39;00m:\n\u001b[0;32m--> 177\u001b[0m     data \u001b[39m=\u001b[39m formatter(obj)\n\u001b[1;32m    178\u001b[0m \u001b[39mexcept\u001b[39;00m:\n\u001b[1;32m    179\u001b[0m     \u001b[39m# FIXME: log the exception\u001b[39;00m\n\u001b[1;32m    180\u001b[0m     \u001b[39mraise\u001b[39;00m\n",
      "File \u001b[0;32m~/Library/Python/3.11/lib/python/site-packages/decorator.py:232\u001b[0m, in \u001b[0;36mdecorate.<locals>.fun\u001b[0;34m(*args, **kw)\u001b[0m\n\u001b[1;32m    230\u001b[0m \u001b[39mif\u001b[39;00m \u001b[39mnot\u001b[39;00m kwsyntax:\n\u001b[1;32m    231\u001b[0m     args, kw \u001b[39m=\u001b[39m fix(args, kw, sig)\n\u001b[0;32m--> 232\u001b[0m \u001b[39mreturn\u001b[39;00m caller(func, \u001b[39m*\u001b[39;49m(extras \u001b[39m+\u001b[39;49m args), \u001b[39m*\u001b[39;49m\u001b[39m*\u001b[39;49mkw)\n",
      "File \u001b[0;32m~/Library/Python/3.11/lib/python/site-packages/IPython/core/formatters.py:221\u001b[0m, in \u001b[0;36mcatch_format_error\u001b[0;34m(method, self, *args, **kwargs)\u001b[0m\n\u001b[1;32m    219\u001b[0m \u001b[39m\"\"\"show traceback on failed format call\"\"\"\u001b[39;00m\n\u001b[1;32m    220\u001b[0m \u001b[39mtry\u001b[39;00m:\n\u001b[0;32m--> 221\u001b[0m     r \u001b[39m=\u001b[39m method(\u001b[39mself\u001b[39;49m, \u001b[39m*\u001b[39;49margs, \u001b[39m*\u001b[39;49m\u001b[39m*\u001b[39;49mkwargs)\n\u001b[1;32m    222\u001b[0m \u001b[39mexcept\u001b[39;00m \u001b[39mNotImplementedError\u001b[39;00m:\n\u001b[1;32m    223\u001b[0m     \u001b[39m# don't warn on NotImplementedErrors\u001b[39;00m\n\u001b[1;32m    224\u001b[0m     \u001b[39mreturn\u001b[39;00m \u001b[39mself\u001b[39m\u001b[39m.\u001b[39m_check_return(\u001b[39mNone\u001b[39;00m, args[\u001b[39m0\u001b[39m])\n",
      "File \u001b[0;32m~/Library/Python/3.11/lib/python/site-packages/IPython/core/formatters.py:338\u001b[0m, in \u001b[0;36mBaseFormatter.__call__\u001b[0;34m(self, obj)\u001b[0m\n\u001b[1;32m    336\u001b[0m     \u001b[39mpass\u001b[39;00m\n\u001b[1;32m    337\u001b[0m \u001b[39melse\u001b[39;00m:\n\u001b[0;32m--> 338\u001b[0m     \u001b[39mreturn\u001b[39;00m printer(obj)\n\u001b[1;32m    339\u001b[0m \u001b[39m# Finally look for special method names\u001b[39;00m\n\u001b[1;32m    340\u001b[0m method \u001b[39m=\u001b[39m get_real_method(obj, \u001b[39mself\u001b[39m\u001b[39m.\u001b[39mprint_method)\n",
      "File \u001b[0;32m~/Library/Python/3.11/lib/python/site-packages/IPython/core/pylabtools.py:152\u001b[0m, in \u001b[0;36mprint_figure\u001b[0;34m(fig, fmt, bbox_inches, base64, **kwargs)\u001b[0m\n\u001b[1;32m    149\u001b[0m     \u001b[39mfrom\u001b[39;00m \u001b[39mmatplotlib\u001b[39;00m\u001b[39m.\u001b[39;00m\u001b[39mbackend_bases\u001b[39;00m \u001b[39mimport\u001b[39;00m FigureCanvasBase\n\u001b[1;32m    150\u001b[0m     FigureCanvasBase(fig)\n\u001b[0;32m--> 152\u001b[0m fig\u001b[39m.\u001b[39;49mcanvas\u001b[39m.\u001b[39;49mprint_figure(bytes_io, \u001b[39m*\u001b[39;49m\u001b[39m*\u001b[39;49mkw)\n\u001b[1;32m    153\u001b[0m data \u001b[39m=\u001b[39m bytes_io\u001b[39m.\u001b[39mgetvalue()\n\u001b[1;32m    154\u001b[0m \u001b[39mif\u001b[39;00m fmt \u001b[39m==\u001b[39m \u001b[39m'\u001b[39m\u001b[39msvg\u001b[39m\u001b[39m'\u001b[39m:\n",
      "File \u001b[0;32m/Library/Frameworks/Python.framework/Versions/3.11/lib/python3.11/site-packages/matplotlib/backend_bases.py:2314\u001b[0m, in \u001b[0;36mFigureCanvasBase.print_figure\u001b[0;34m(self, filename, dpi, facecolor, edgecolor, orientation, format, bbox_inches, pad_inches, bbox_extra_artists, backend, **kwargs)\u001b[0m\n\u001b[1;32m   2308\u001b[0m     renderer \u001b[39m=\u001b[39m _get_renderer(\n\u001b[1;32m   2309\u001b[0m         \u001b[39mself\u001b[39m\u001b[39m.\u001b[39mfigure,\n\u001b[1;32m   2310\u001b[0m         functools\u001b[39m.\u001b[39mpartial(\n\u001b[1;32m   2311\u001b[0m             print_method, orientation\u001b[39m=\u001b[39morientation)\n\u001b[1;32m   2312\u001b[0m     )\n\u001b[1;32m   2313\u001b[0m     \u001b[39mwith\u001b[39;00m \u001b[39mgetattr\u001b[39m(renderer, \u001b[39m\"\u001b[39m\u001b[39m_draw_disabled\u001b[39m\u001b[39m\"\u001b[39m, nullcontext)():\n\u001b[0;32m-> 2314\u001b[0m         \u001b[39mself\u001b[39;49m\u001b[39m.\u001b[39;49mfigure\u001b[39m.\u001b[39;49mdraw(renderer)\n\u001b[1;32m   2316\u001b[0m \u001b[39mif\u001b[39;00m bbox_inches:\n\u001b[1;32m   2317\u001b[0m     \u001b[39mif\u001b[39;00m bbox_inches \u001b[39m==\u001b[39m \u001b[39m\"\u001b[39m\u001b[39mtight\u001b[39m\u001b[39m\"\u001b[39m:\n",
      "File \u001b[0;32m/Library/Frameworks/Python.framework/Versions/3.11/lib/python3.11/site-packages/matplotlib/artist.py:74\u001b[0m, in \u001b[0;36m_finalize_rasterization.<locals>.draw_wrapper\u001b[0;34m(artist, renderer, *args, **kwargs)\u001b[0m\n\u001b[1;32m     72\u001b[0m \u001b[39m@wraps\u001b[39m(draw)\n\u001b[1;32m     73\u001b[0m \u001b[39mdef\u001b[39;00m \u001b[39mdraw_wrapper\u001b[39m(artist, renderer, \u001b[39m*\u001b[39margs, \u001b[39m*\u001b[39m\u001b[39m*\u001b[39mkwargs):\n\u001b[0;32m---> 74\u001b[0m     result \u001b[39m=\u001b[39m draw(artist, renderer, \u001b[39m*\u001b[39;49margs, \u001b[39m*\u001b[39;49m\u001b[39m*\u001b[39;49mkwargs)\n\u001b[1;32m     75\u001b[0m     \u001b[39mif\u001b[39;00m renderer\u001b[39m.\u001b[39m_rasterizing:\n\u001b[1;32m     76\u001b[0m         renderer\u001b[39m.\u001b[39mstop_rasterizing()\n",
      "File \u001b[0;32m/Library/Frameworks/Python.framework/Versions/3.11/lib/python3.11/site-packages/matplotlib/artist.py:51\u001b[0m, in \u001b[0;36mallow_rasterization.<locals>.draw_wrapper\u001b[0;34m(artist, renderer)\u001b[0m\n\u001b[1;32m     48\u001b[0m     \u001b[39mif\u001b[39;00m artist\u001b[39m.\u001b[39mget_agg_filter() \u001b[39mis\u001b[39;00m \u001b[39mnot\u001b[39;00m \u001b[39mNone\u001b[39;00m:\n\u001b[1;32m     49\u001b[0m         renderer\u001b[39m.\u001b[39mstart_filter()\n\u001b[0;32m---> 51\u001b[0m     \u001b[39mreturn\u001b[39;00m draw(artist, renderer)\n\u001b[1;32m     52\u001b[0m \u001b[39mfinally\u001b[39;00m:\n\u001b[1;32m     53\u001b[0m     \u001b[39mif\u001b[39;00m artist\u001b[39m.\u001b[39mget_agg_filter() \u001b[39mis\u001b[39;00m \u001b[39mnot\u001b[39;00m \u001b[39mNone\u001b[39;00m:\n",
      "File \u001b[0;32m/Library/Frameworks/Python.framework/Versions/3.11/lib/python3.11/site-packages/matplotlib/figure.py:3071\u001b[0m, in \u001b[0;36mFigure.draw\u001b[0;34m(self, renderer)\u001b[0m\n\u001b[1;32m   3068\u001b[0m         \u001b[39m# ValueError can occur when resizing a window.\u001b[39;00m\n\u001b[1;32m   3070\u001b[0m \u001b[39mself\u001b[39m\u001b[39m.\u001b[39mpatch\u001b[39m.\u001b[39mdraw(renderer)\n\u001b[0;32m-> 3071\u001b[0m mimage\u001b[39m.\u001b[39;49m_draw_list_compositing_images(\n\u001b[1;32m   3072\u001b[0m     renderer, \u001b[39mself\u001b[39;49m, artists, \u001b[39mself\u001b[39;49m\u001b[39m.\u001b[39;49msuppressComposite)\n\u001b[1;32m   3074\u001b[0m \u001b[39mfor\u001b[39;00m sfig \u001b[39min\u001b[39;00m \u001b[39mself\u001b[39m\u001b[39m.\u001b[39msubfigs:\n\u001b[1;32m   3075\u001b[0m     sfig\u001b[39m.\u001b[39mdraw(renderer)\n",
      "File \u001b[0;32m/Library/Frameworks/Python.framework/Versions/3.11/lib/python3.11/site-packages/matplotlib/image.py:131\u001b[0m, in \u001b[0;36m_draw_list_compositing_images\u001b[0;34m(renderer, parent, artists, suppress_composite)\u001b[0m\n\u001b[1;32m    129\u001b[0m \u001b[39mif\u001b[39;00m not_composite \u001b[39mor\u001b[39;00m \u001b[39mnot\u001b[39;00m has_images:\n\u001b[1;32m    130\u001b[0m     \u001b[39mfor\u001b[39;00m a \u001b[39min\u001b[39;00m artists:\n\u001b[0;32m--> 131\u001b[0m         a\u001b[39m.\u001b[39;49mdraw(renderer)\n\u001b[1;32m    132\u001b[0m \u001b[39melse\u001b[39;00m:\n\u001b[1;32m    133\u001b[0m     \u001b[39m# Composite any adjacent images together\u001b[39;00m\n\u001b[1;32m    134\u001b[0m     image_group \u001b[39m=\u001b[39m []\n",
      "File \u001b[0;32m/Library/Frameworks/Python.framework/Versions/3.11/lib/python3.11/site-packages/matplotlib/artist.py:51\u001b[0m, in \u001b[0;36mallow_rasterization.<locals>.draw_wrapper\u001b[0;34m(artist, renderer)\u001b[0m\n\u001b[1;32m     48\u001b[0m     \u001b[39mif\u001b[39;00m artist\u001b[39m.\u001b[39mget_agg_filter() \u001b[39mis\u001b[39;00m \u001b[39mnot\u001b[39;00m \u001b[39mNone\u001b[39;00m:\n\u001b[1;32m     49\u001b[0m         renderer\u001b[39m.\u001b[39mstart_filter()\n\u001b[0;32m---> 51\u001b[0m     \u001b[39mreturn\u001b[39;00m draw(artist, renderer)\n\u001b[1;32m     52\u001b[0m \u001b[39mfinally\u001b[39;00m:\n\u001b[1;32m     53\u001b[0m     \u001b[39mif\u001b[39;00m artist\u001b[39m.\u001b[39mget_agg_filter() \u001b[39mis\u001b[39;00m \u001b[39mnot\u001b[39;00m \u001b[39mNone\u001b[39;00m:\n",
      "File \u001b[0;32m/Library/Frameworks/Python.framework/Versions/3.11/lib/python3.11/site-packages/matplotlib/axes/_base.py:3107\u001b[0m, in \u001b[0;36m_AxesBase.draw\u001b[0;34m(self, renderer)\u001b[0m\n\u001b[1;32m   3104\u001b[0m         a\u001b[39m.\u001b[39mdraw(renderer)\n\u001b[1;32m   3105\u001b[0m     renderer\u001b[39m.\u001b[39mstop_rasterizing()\n\u001b[0;32m-> 3107\u001b[0m mimage\u001b[39m.\u001b[39;49m_draw_list_compositing_images(\n\u001b[1;32m   3108\u001b[0m     renderer, \u001b[39mself\u001b[39;49m, artists, \u001b[39mself\u001b[39;49m\u001b[39m.\u001b[39;49mfigure\u001b[39m.\u001b[39;49msuppressComposite)\n\u001b[1;32m   3110\u001b[0m renderer\u001b[39m.\u001b[39mclose_group(\u001b[39m'\u001b[39m\u001b[39maxes\u001b[39m\u001b[39m'\u001b[39m)\n\u001b[1;32m   3111\u001b[0m \u001b[39mself\u001b[39m\u001b[39m.\u001b[39mstale \u001b[39m=\u001b[39m \u001b[39mFalse\u001b[39;00m\n",
      "File \u001b[0;32m/Library/Frameworks/Python.framework/Versions/3.11/lib/python3.11/site-packages/matplotlib/image.py:131\u001b[0m, in \u001b[0;36m_draw_list_compositing_images\u001b[0;34m(renderer, parent, artists, suppress_composite)\u001b[0m\n\u001b[1;32m    129\u001b[0m \u001b[39mif\u001b[39;00m not_composite \u001b[39mor\u001b[39;00m \u001b[39mnot\u001b[39;00m has_images:\n\u001b[1;32m    130\u001b[0m     \u001b[39mfor\u001b[39;00m a \u001b[39min\u001b[39;00m artists:\n\u001b[0;32m--> 131\u001b[0m         a\u001b[39m.\u001b[39;49mdraw(renderer)\n\u001b[1;32m    132\u001b[0m \u001b[39melse\u001b[39;00m:\n\u001b[1;32m    133\u001b[0m     \u001b[39m# Composite any adjacent images together\u001b[39;00m\n\u001b[1;32m    134\u001b[0m     image_group \u001b[39m=\u001b[39m []\n",
      "File \u001b[0;32m/Library/Frameworks/Python.framework/Versions/3.11/lib/python3.11/site-packages/matplotlib/artist.py:51\u001b[0m, in \u001b[0;36mallow_rasterization.<locals>.draw_wrapper\u001b[0;34m(artist, renderer)\u001b[0m\n\u001b[1;32m     48\u001b[0m     \u001b[39mif\u001b[39;00m artist\u001b[39m.\u001b[39mget_agg_filter() \u001b[39mis\u001b[39;00m \u001b[39mnot\u001b[39;00m \u001b[39mNone\u001b[39;00m:\n\u001b[1;32m     49\u001b[0m         renderer\u001b[39m.\u001b[39mstart_filter()\n\u001b[0;32m---> 51\u001b[0m     \u001b[39mreturn\u001b[39;00m draw(artist, renderer)\n\u001b[1;32m     52\u001b[0m \u001b[39mfinally\u001b[39;00m:\n\u001b[1;32m     53\u001b[0m     \u001b[39mif\u001b[39;00m artist\u001b[39m.\u001b[39mget_agg_filter() \u001b[39mis\u001b[39;00m \u001b[39mnot\u001b[39;00m \u001b[39mNone\u001b[39;00m:\n",
      "File \u001b[0;32m/Library/Frameworks/Python.framework/Versions/3.11/lib/python3.11/site-packages/matplotlib/patches.py:586\u001b[0m, in \u001b[0;36mPatch.draw\u001b[0;34m(self, renderer)\u001b[0m\n\u001b[1;32m    584\u001b[0m     \u001b[39mreturn\u001b[39;00m\n\u001b[1;32m    585\u001b[0m path \u001b[39m=\u001b[39m \u001b[39mself\u001b[39m\u001b[39m.\u001b[39mget_path()\n\u001b[0;32m--> 586\u001b[0m transform \u001b[39m=\u001b[39m \u001b[39mself\u001b[39;49m\u001b[39m.\u001b[39;49mget_transform()\n\u001b[1;32m    587\u001b[0m tpath \u001b[39m=\u001b[39m transform\u001b[39m.\u001b[39mtransform_path_non_affine(path)\n\u001b[1;32m    588\u001b[0m affine \u001b[39m=\u001b[39m transform\u001b[39m.\u001b[39mget_affine()\n",
      "File \u001b[0;32m/Library/Frameworks/Python.framework/Versions/3.11/lib/python3.11/site-packages/matplotlib/patches.py:262\u001b[0m, in \u001b[0;36mPatch.get_transform\u001b[0;34m(self)\u001b[0m\n\u001b[1;32m    260\u001b[0m \u001b[39mdef\u001b[39;00m \u001b[39mget_transform\u001b[39m(\u001b[39mself\u001b[39m):\n\u001b[1;32m    261\u001b[0m     \u001b[39m\"\"\"Return the `~.transforms.Transform` applied to the `Patch`.\"\"\"\u001b[39;00m\n\u001b[0;32m--> 262\u001b[0m     \u001b[39mreturn\u001b[39;00m \u001b[39mself\u001b[39;49m\u001b[39m.\u001b[39;49mget_patch_transform() \u001b[39m+\u001b[39m artist\u001b[39m.\u001b[39mArtist\u001b[39m.\u001b[39mget_transform(\u001b[39mself\u001b[39m)\n",
      "File \u001b[0;32m/Library/Frameworks/Python.framework/Versions/3.11/lib/python3.11/site-packages/matplotlib/patches.py:750\u001b[0m, in \u001b[0;36mRectangle.get_patch_transform\u001b[0;34m(self)\u001b[0m\n\u001b[1;32m    748\u001b[0m     rotation_point \u001b[39m=\u001b[39m bbox\u001b[39m.\u001b[39mx0 \u001b[39m+\u001b[39m width \u001b[39m/\u001b[39m \u001b[39m2.\u001b[39m, bbox\u001b[39m.\u001b[39my0 \u001b[39m+\u001b[39m height \u001b[39m/\u001b[39m \u001b[39m2.\u001b[39m\n\u001b[1;32m    749\u001b[0m \u001b[39melif\u001b[39;00m \u001b[39mself\u001b[39m\u001b[39m.\u001b[39mrotation_point \u001b[39m==\u001b[39m \u001b[39m'\u001b[39m\u001b[39mxy\u001b[39m\u001b[39m'\u001b[39m:\n\u001b[0;32m--> 750\u001b[0m     rotation_point \u001b[39m=\u001b[39m bbox\u001b[39m.\u001b[39mx0, bbox\u001b[39m.\u001b[39;49my0\n\u001b[1;32m    751\u001b[0m \u001b[39melse\u001b[39;00m:\n\u001b[1;32m    752\u001b[0m     rotation_point \u001b[39m=\u001b[39m \u001b[39mself\u001b[39m\u001b[39m.\u001b[39mrotation_point\n",
      "File \u001b[0;32m/Library/Frameworks/Python.framework/Versions/3.11/lib/python3.11/site-packages/matplotlib/transforms.py:263\u001b[0m, in \u001b[0;36mBboxBase.y0\u001b[0;34m(self)\u001b[0m\n\u001b[1;32m    255\u001b[0m     \u001b[39m\"\"\"\u001b[39;00m\n\u001b[1;32m    256\u001b[0m \u001b[39m    The first of the pair of *x* coordinates that define the bounding box.\u001b[39;00m\n\u001b[1;32m    257\u001b[0m \n\u001b[1;32m    258\u001b[0m \u001b[39m    This is not guaranteed to be less than :attr:`x1` (for that, use\u001b[39;00m\n\u001b[1;32m    259\u001b[0m \u001b[39m    :attr:`xmin`).\u001b[39;00m\n\u001b[1;32m    260\u001b[0m \u001b[39m    \"\"\"\u001b[39;00m\n\u001b[1;32m    261\u001b[0m     \u001b[39mreturn\u001b[39;00m \u001b[39mself\u001b[39m\u001b[39m.\u001b[39mget_points()[\u001b[39m0\u001b[39m, \u001b[39m0\u001b[39m]\n\u001b[0;32m--> 263\u001b[0m \u001b[39m@property\u001b[39m\n\u001b[1;32m    264\u001b[0m \u001b[39mdef\u001b[39;00m \u001b[39my0\u001b[39m(\u001b[39mself\u001b[39m):\n\u001b[1;32m    265\u001b[0m     \u001b[39m\"\"\"\u001b[39;00m\n\u001b[1;32m    266\u001b[0m \u001b[39m    The first of the pair of *y* coordinates that define the bounding box.\u001b[39;00m\n\u001b[1;32m    267\u001b[0m \n\u001b[1;32m    268\u001b[0m \u001b[39m    This is not guaranteed to be less than :attr:`y1` (for that, use\u001b[39;00m\n\u001b[1;32m    269\u001b[0m \u001b[39m    :attr:`ymin`).\u001b[39;00m\n\u001b[1;32m    270\u001b[0m \u001b[39m    \"\"\"\u001b[39;00m\n\u001b[1;32m    271\u001b[0m     \u001b[39mreturn\u001b[39;00m \u001b[39mself\u001b[39m\u001b[39m.\u001b[39mget_points()[\u001b[39m0\u001b[39m, \u001b[39m1\u001b[39m]\n",
      "\u001b[0;31mKeyboardInterrupt\u001b[0m: "
     ]
    }
   ],
   "source": [
    "\"\"\"#group the dataframe by the adm0_name and mp_year columns\n",
    "grouped = fg.groupby([\"adm0_name\",\"mp_year\"])\n",
    "#iterate through each group (each country and year)\n",
    "for name, group in grouped:\n",
    "    plt.figure(figsize=(14,7))\n",
    "    plt.bar(group[\"Time\"], group[\"mp_price\"], label=name[0])\n",
    "    plt.xlabel(\"Time\", fontsize=15)\n",
    "    plt.ylabel(\"Price\", fontsize=15)\n",
    "    plt.ylim(0, group['mp_price'].max()+1/2*group['mp_price'].max())\n",
    "    plt.xticks(fontsize=14)\n",
    "    plt.yticks(fontsize=14)\n",
    "    plt.tick_params(axis='both', which='major', labelsize=14)\n",
    "    plt.savefig(str(name[1])+'_'+name[0]+'.png')\"\"\""
   ]
  },
  {
   "cell_type": "code",
   "execution_count": null,
   "metadata": {},
   "outputs": [],
   "source": [
    "# final.to_csv('Final_africa.csv')"
   ]
  }
 ],
 "metadata": {
  "kernelspec": {
   "display_name": "Python 3.11.0 64-bit",
   "language": "python",
   "name": "python3"
  },
  "language_info": {
   "codemirror_mode": {
    "name": "ipython",
    "version": 3
   },
   "file_extension": ".py",
   "mimetype": "text/x-python",
   "name": "python",
   "nbconvert_exporter": "python",
   "pygments_lexer": "ipython3",
   "version": "3.11.1"
  },
  "orig_nbformat": 4,
  "vscode": {
   "interpreter": {
    "hash": "aee8b7b246df8f9039afb4144a1f6fd8d2ca17a180786b69acc140d282b71a49"
   }
  }
 },
 "nbformat": 4,
 "nbformat_minor": 2
}
